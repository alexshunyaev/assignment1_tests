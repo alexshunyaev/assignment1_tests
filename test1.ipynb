{
 "cells": [
  {
   "cell_type": "markdown",
   "id": "0b75ff0f-f32a-408b-aac2-0ccc26c3acf3",
   "metadata": {
    "deletable": false,
    "editable": false,
    "nbgrader": {
     "cell_type": "markdown",
     "checksum": "8a55d70aab05dee30dbf5982b458eea6",
     "grade": false,
     "grade_id": "cell-d99738f4f6e6a18e",
     "locked": true,
     "schema_version": 3,
     "solution": false,
     "task": false
    }
   },
   "source": [
    "**We're going to help the guards out and compute whether a collection of swallows can carry a collection of coconuts between them. We know that \"a five ounce bird could not carry a one pound coconut,\" so we will assume that a 5.5 ounce bird can carry a one pound coconut. More specifically, we will assume that every 5.5 ounces of bird can carry one pound of coconut.**"
   ]
  },
  {
   "cell_type": "code",
   "execution_count": null,
   "id": "259657e5-0d5c-45fa-b0b2-2a506534c11b",
   "metadata": {
    "deletable": false,
    "editable": true,
    "nbgrader": {
     "cell_type": "code",
     "checksum": "10feaa43ecdcd4726020ade5c3bf3910",
     "grade": false,
     "grade_id": "cell-cf9726a45fb25ba2",
     "locked": false,
     "schema_version": 3,
     "solution": true,
     "task": false
    },
    "slideshow": {
     "slide_type": ""
    },
    "tags": []
   },
   "outputs": [],
   "source": [
    "'''Prompt the user for the number of ounces of bird \n",
    "by asking: \"How many ounces of birds are carrying the coconuts? \".\n",
    "Prompt the user for the number of pounds of coconut by asking: \n",
    "\"How many pounds of coconuts are there? \".\n",
    "Remember to convert these values to floats! \n",
    "You can assume that the user input is formatted correctly.'''\n",
    "\n",
    "# YOUR CODE HERE\n",
    "raise NotImplementedError()"
   ]
  },
  {
   "cell_type": "markdown",
   "id": "1d97c93f-1faa-4f97-ad58-2609d01f75e5",
   "metadata": {
    "deletable": false,
    "editable": false,
    "nbgrader": {
     "cell_type": "markdown",
     "checksum": "a628e3eb2aecd2544435b4ddd681bc4e",
     "grade": false,
     "grade_id": "cell-56262726fdc23f8a",
     "locked": true,
     "schema_version": 3,
     "solution": false,
     "task": false
    }
   },
   "source": [
    "# **Sample run**\n",
    "\n",
    "How many ounces of birds are carrying the coconuts? 5\n",
    "How many pounds of coconuts are there? 1\n",
    "No. Carrying the coconuts is impossible.\n",
    "\n",
    "How many ounces of birds are carrying the coconuts? 6.2\r\n",
    "How many pounds of coconuts are there? 1.1\r\n",
    "Yes! Carrying the coconuts is possible..py\r\n",
    "How many ounces of birds are carrying the coconuts? 17\r\n",
    "How many pounds of coconuts are there? 3\r\n",
    "Yes! Carrying the coconuts is possonuts.py\r\n",
    "How many ounces of birds are carrying the coconuts? 12.5\r\n",
    "How many pounds of coconuts are there? 2.5\r\n",
    "No. Carrying the coconuts is impossible.\n"
   ]
  },
  {
   "cell_type": "code",
   "execution_count": null,
   "id": "cd7b6d01-8b7d-4660-9f83-5c3c3a21f0a9",
   "metadata": {
    "deletable": false,
    "editable": false,
    "nbgrader": {
     "cell_type": "code",
     "checksum": "a6cafa2496194d0dedce48d50edf9cea",
     "grade": true,
     "grade_id": "cell-308136d4df2f8427",
     "locked": true,
     "points": 1,
     "schema_version": 3,
     "solution": false,
     "task": false
    }
   },
   "outputs": [],
   "source": []
  }
 ],
 "metadata": {
  "kernelspec": {
   "display_name": "Python 3 (ipykernel)",
   "language": "python",
   "name": "python3"
  },
  "language_info": {
   "codemirror_mode": {
    "name": "ipython",
    "version": 3
   },
   "file_extension": ".py",
   "mimetype": "text/x-python",
   "name": "python",
   "nbconvert_exporter": "python",
   "pygments_lexer": "ipython3",
   "version": "3.10.8"
  }
 },
 "nbformat": 4,
 "nbformat_minor": 5
}
